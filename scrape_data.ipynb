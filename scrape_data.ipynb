{
 "cells": [
  {
   "cell_type": "markdown",
   "metadata": {},
   "source": [
    "Importing libraries"
   ]
  },
  {
   "cell_type": "code",
   "execution_count": 1,
   "metadata": {},
   "outputs": [
    {
     "name": "stderr",
     "output_type": "stream",
     "text": [
      "[WDM] - Downloading: 100%|██████████| 8.60M/8.60M [00:01<00:00, 5.93MB/s]\n"
     ]
    }
   ],
   "source": [
    "import time\n",
    "from selenium import webdriver\n",
    "from selenium.webdriver.common.by import By\n",
    "from selenium.webdriver.support.ui import WebDriverWait\n",
    "from selenium.webdriver.support import expected_conditions as EC\n",
    "from webdriver_manager.microsoft import EdgeChromiumDriverManager\n",
    "from selenium.webdriver.edge.service import Service as EdgeService\n",
    "\n",
    "#Setting up the webdriver. I used Microsoft Edge for this. (Edge is superior anyways, at least compared to Chrome)\n",
    "browser = webdriver.Edge(service=EdgeService(EdgeChromiumDriverManager().install()))\n"
   ]
  },
  {
   "cell_type": "markdown",
   "metadata": {},
   "source": [
    "Functions"
   ]
  },
  {
   "cell_type": "code",
   "execution_count": 3,
   "metadata": {},
   "outputs": [],
   "source": [
    "#Gets site but refreshes site when it can't be opened.\n",
    "def get_site(site, browser):\n",
    "    while True:\n",
    "        try:\n",
    "            time.sleep(0.3)\n",
    "            browser.get(site)\n",
    "            break\n",
    "        except:\n",
    "            continue\n",
    "\n",
    "#Gets percentages (in float) for a string of numbers.\n",
    "def floatize_text(text):\n",
    "    try:\n",
    "        return int(text[:-1]) / 100\n",
    "    except:\n",
    "        return 0"
   ]
  },
  {
   "cell_type": "markdown",
   "metadata": {},
   "source": [
    "Scraping data"
   ]
  },
  {
   "cell_type": "code",
   "execution_count": 4,
   "metadata": {},
   "outputs": [
    {
     "name": "stdout",
     "output_type": "stream",
     "text": [
      "Qatar vs. Ecuador scraped!\n",
      "England vs. IR Iran scraped!\n",
      "Senegal vs. Netherlands scraped!\n",
      "United States vs. Wales scraped!\n",
      "Argentina vs. Saudi Arabia scraped!\n",
      "Denmark vs. Tunisia scraped!\n",
      "Mexico vs. Poland scraped!\n",
      "France vs. Australia scraped!\n",
      "Morocco vs. Croatia scraped!\n",
      "Germany vs. Japan scraped!\n",
      "Spain vs. Costa Rica scraped!\n",
      "Belgium vs. Canada scraped!\n",
      "Switzerland vs. Cameroon scraped!\n",
      "Uruguay vs. Korea Republic scraped!\n",
      "Portugal vs. Ghana scraped!\n",
      "Brazil vs. Serbia scraped!\n",
      "Wales vs. IR Iran scraped!\n",
      "Qatar vs. Senegal scraped!\n",
      "Netherlands vs. Ecuador scraped!\n",
      "England vs. United States scraped!\n",
      "Tunisia vs. Australia scraped!\n",
      "Poland vs. Saudi Arabia scraped!\n",
      "France vs. Denmark scraped!\n",
      "Argentina vs. Mexico scraped!\n",
      "Japan vs. Costa Rica scraped!\n",
      "Belgium vs. Morocco scraped!\n",
      "Croatia vs. Canada scraped!\n",
      "Spain vs. Germany scraped!\n",
      "Cameroon vs. Serbia scraped!\n",
      "Korea Republic vs. Ghana scraped!\n",
      "Brazil vs. Switzerland scraped!\n",
      "Portugal vs. Uruguay scraped!\n",
      "Ecuador vs. Senegal scraped!\n",
      "Netherlands vs. Qatar scraped!\n",
      "IR Iran vs. United States scraped!\n",
      "Wales vs. England scraped!\n",
      "Australia vs. Denmark scraped!\n",
      "Tunisia vs. France scraped!\n",
      "Saudi Arabia vs. Mexico scraped!\n",
      "Poland vs. Argentina scraped!\n",
      "Croatia vs. Belgium scraped!\n",
      "Canada vs. Morocco scraped!\n",
      "Japan vs. Spain scraped!\n",
      "Costa Rica vs. Germany scraped!\n",
      "Korea Republic vs. Portugal scraped!\n",
      "Ghana vs. Uruguay scraped!\n",
      "Serbia vs. Switzerland scraped!\n",
      "Cameroon vs. Brazil scraped!\n",
      "not enough values to unpack (expected 2, got 0)\n"
     ]
    }
   ],
   "source": [
    "i = 1\n",
    "data = []\n",
    "\n",
    "#While loop is used because the number of elements of the site may change.\n",
    "while True:\n",
    "    try:\n",
    "        match = {}\n",
    "        get_site(\"https://fbref.com/en/comps/1/schedule/World-Cup-Scores-and-Fixtures\", browser)\n",
    "\n",
    "        try:\n",
    "            match_page = WebDriverWait(browser, 60).until(EC.presence_of_element_located((By.XPATH, \n",
    "            f'//*[@id=\"sched_all\"]/tbody/tr[{i}]/td[13]/a'))).get_attribute(\"href\")\n",
    "        except:\n",
    "            i += 1\n",
    "            continue\n",
    "\n",
    "        get_site(match_page, browser)\n",
    "        headline = browser.find_element(By.XPATH, '//*[@id=\"content\"]/h1').text.split(\" vs. \")\n",
    "        match[\"countryA\"], match[\"countryB\"] = headline[0], headline[1].split(\" Match\")[0]\n",
    "        match[\"scoreA\"], match[\"scoreB\"] = [int(score.text) for score in browser.find_elements(By.CLASS_NAME, \"score\")]\n",
    "        match[\"xgA\"], match[\"xgB\"] = [float(xg.text) for xg in browser.find_elements(By.CLASS_NAME, \"score_xg\")]\n",
    "        match[\"possessionA\"] = floatize_text(browser.find_element(By.XPATH, '//*[@id=\"team_stats\"]/table/tbody/tr[3]/td[1]/div/div[1]/strong').text)\n",
    "        match[\"possessionB\"] = floatize_text(browser.find_element(By.XPATH, '//*[@id=\"team_stats\"]/table/tbody/tr[3]/td[2]/div/div[1]/strong').text)\n",
    "        match[\"passing_accA\"] = floatize_text(browser.find_element(By.XPATH, '//*[@id=\"team_stats\"]/table/tbody/tr[5]/td[1]/div/div[1]/strong').text)\n",
    "        match[\"passing_accB\"] = floatize_text(browser.find_element(By.XPATH, '//*[@id=\"team_stats\"]/table/tbody/tr[5]/td[2]/div/div[1]/strong').text)\n",
    "        match[\"shots_on_targetA\"] = floatize_text(browser.find_element(By.XPATH, '//*[@id=\"team_stats\"]/table/tbody/tr[7]/td[1]/div/div[1]/strong').text)\n",
    "        match[\"shots_on_targetB\"] = floatize_text(browser.find_element(By.XPATH, '//*[@id=\"team_stats\"]/table/tbody/tr[7]/td[2]/div/div[1]/strong').text)\n",
    "        match[\"savesA\"] = floatize_text(browser.find_element(By.XPATH, '//*[@id=\"team_stats\"]/table/tbody/tr[9]/td[1]/div/div[1]/strong').text)\n",
    "        match[\"savesB\"] = floatize_text(browser.find_element(By.XPATH, '//*[@id=\"team_stats\"]/table/tbody/tr[9]/td[2]/div/div[1]/strong').text)\n",
    "\n",
    "        data.append(match)\n",
    "        \n",
    "        print(f'{match[\"countryA\"]} vs. {match[\"countryB\"]} scraped!')\n",
    "        if len(data) == 64: #64 matches in this WC maximum.\n",
    "            break\n",
    "        \n",
    "    except Exception as e: #If we get an error, the match might be incomplete, so everything is okay.\n",
    "        print(e)\n",
    "        break\n",
    "\n",
    "with open(\"match_data.txt\", \"a\", encoding=\"utf8\") as f:\n",
    "    f.write(str(data))"
   ]
  }
 ],
 "metadata": {
  "kernelspec": {
   "display_name": "Python 3.10.6 64-bit",
   "language": "python",
   "name": "python3"
  },
  "language_info": {
   "codemirror_mode": {
    "name": "ipython",
    "version": 3
   },
   "file_extension": ".py",
   "mimetype": "text/x-python",
   "name": "python",
   "nbconvert_exporter": "python",
   "pygments_lexer": "ipython3",
   "version": "3.10.6"
  },
  "orig_nbformat": 4,
  "vscode": {
   "interpreter": {
    "hash": "38ed5121cdf47a532e4ff6124d0e803d0a8a1d3aeeae476a2c79c17a0c22e653"
   }
  }
 },
 "nbformat": 4,
 "nbformat_minor": 2
}
